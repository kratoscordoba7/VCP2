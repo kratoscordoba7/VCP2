{
 "cells": [
  {
   "cell_type": "markdown",
   "metadata": {},
   "source": [
    "#Paquetes necesarios"
   ]
  },
  {
   "cell_type": "code",
   "execution_count": 1,
   "metadata": {},
   "outputs": [],
   "source": [
    "import cv2  \n",
    "import numpy as np\n",
    "import matplotlib.pyplot as plt"
   ]
  },
  {
   "cell_type": "markdown",
   "metadata": {},
   "source": [
    "\n",
    "TAREA: Proponer un demostrador que capture las imágenes de la cámara, y les permita exhibir lo aprendido en estas dos prácticas ante quienes no cursen la asignatura :). Es por ello que además de poder mostrar la imagen original de la webcam, incluya al menos dos usos diferentes de aplicar las funciones de OpenCV trabajadas hasta ahora.\n"
   ]
  },
  {
   "cell_type": "code",
   "execution_count": 2,
   "metadata": {},
   "outputs": [],
   "source": [
    "def normal(frame):\n",
    "    cv2.imshow('Imagen original', frame)\n",
    "\n",
    "def NormalToCanny(frame):\n",
    "    canny = cv2.Canny(frame, 100, 400)\n",
    "    cv2.imshow('Imagen Canny', canny)\n",
    "    \n",
    "def segmentacion_color_azul(frame):\n",
    "    # Convertir la imagen de BGR a HSV\n",
    "    hsv, lower_blue, upper_blue = cv2.cvtColor(frame, cv2.COLOR_BGR2HSV), np.array([100, 150, 50]), np.array([140, 255, 255])\n",
    "    \n",
    "    # Crear una máscara que detecte los píxeles dentro del rango del color azul,  \n",
    "    # es un array donde los valores que no se encuentren en el intervalo valen cero\n",
    "    mask = cv2.inRange(hsv, lower_blue, upper_blue)\n",
    "    \n",
    "    # Crear la imagen en escala de grises, podría tener color pero al haberla convertido primero a escala de grises se vería en blanco y negro\n",
    "    gray = cv2.cvtColor(frame, cv2.COLOR_BGR2GRAY)\n",
    "    gray_colored = cv2.cvtColor(gray, cv2.COLOR_GRAY2BGR)\n",
    "    \n",
    "    # Combinar la imagen en color con la imagen en escala de grises usando la máscara\n",
    "    resultado = np.where(mask[:, :, np.newaxis] != 0, frame, gray_colored)\n",
    "    \n",
    "    cv2.imshow('Segmentacion de color (Azul)', resultado)\n",
    "    \n",
    "def filtro_sepia(frame):\n",
    "    sepia_filter = np.array([[0.272, 0.534, 0.131], [0.349, 0.686, 0.168], [0.393, 0.769, 0.189]])\n",
    "    sepia = cv2.transform(frame, sepia_filter)\n",
    "    cv2.imshow('Filtro Sepia', sepia)"
   ]
  },
  {
   "cell_type": "code",
   "execution_count": 3,
   "metadata": {},
   "outputs": [],
   "source": [
    "vid, modo = cv2.VideoCapture(0), 0\n",
    "\n",
    "while(True):\n",
    "    ret, frame = vid.read()\n",
    "    if ret:\n",
    "        if modo == 0: normal(frame)\n",
    "        if modo == 1: NormalToCanny(frame)\n",
    "        if modo == 2: segmentacion_color_azul(frame)\n",
    "        if modo == 3: filtro_sepia(frame)\n",
    "    \n",
    "    # Detecta teclas presionadas\n",
    "    key = cv2.waitKey(20)\n",
    "    \n",
    "    if key == 27:  # Tecla ESC para salir\n",
    "        break\n",
    "    elif key == ord('0'):  # Tecla '0' para volver a la imagen original\n",
    "        cv2.destroyAllWindows()\n",
    "        modo = 0\n",
    "    elif key == ord('1'):  # Tecla '1' para el modo de movimiento\n",
    "        cv2.destroyAllWindows()\n",
    "        modo = 1\n",
    "    elif key == ord('2'):  # Tecla '2' para el modo de sustracción de fondo\n",
    "        cv2.destroyAllWindows()\n",
    "        modo = 2\n",
    "    elif key == ord('3'):  # Tecla '2' para el modo de sustracción de fondo\n",
    "        cv2.destroyAllWindows()\n",
    "        modo = 3\n",
    "        \n",
    "vid.release()\n",
    "\n",
    "cv2.destroyAllWindows()"
   ]
  }
 ],
 "metadata": {
  "kernelspec": {
   "display_name": "Python 3.7.3 ('FACES')",
   "language": "python",
   "name": "python3"
  },
  "language_info": {
   "codemirror_mode": {
    "name": "ipython",
    "version": 3
   },
   "file_extension": ".py",
   "mimetype": "text/x-python",
   "name": "python",
   "nbconvert_exporter": "python",
   "pygments_lexer": "ipython3",
   "version": "3.11.10"
  },
  "orig_nbformat": 4,
  "vscode": {
   "interpreter": {
    "hash": "ea3a1ee99ce326e593ddb52cd278556d527fcb6552c40e2a47b1efb9d0183637"
   }
  }
 },
 "nbformat": 4,
 "nbformat_minor": 2
}
